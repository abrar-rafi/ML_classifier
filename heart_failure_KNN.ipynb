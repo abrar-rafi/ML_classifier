{
 "cells": [
  {
   "cell_type": "code",
   "execution_count": 1,
   "id": "b4848b43",
   "metadata": {},
   "outputs": [],
   "source": [
    "import pandas as pd\n",
    "from sklearn.neighbors import KNeighborsClassifier\n",
    "from sklearn.model_selection import train_test_split\n",
    "from sklearn.metrics import accuracy_score\n",
    "from random import seed\n",
    "from statistics import stdev\n",
    "\n",
    "df = pd.read_csv('heart_failure_clinical_records_dataset.csv')"
   ]
  },
  {
   "cell_type": "code",
   "execution_count": 2,
   "id": "bbacc649",
   "metadata": {},
   "outputs": [
    {
     "data": {
      "text/plain": [
       "0.6304000000000026"
      ]
     },
     "execution_count": 2,
     "metadata": {},
     "output_type": "execute_result"
    }
   ],
   "source": [
    "X = df.drop(columns=['DEATH_EVENT'])\n",
    "Y = df['DEATH_EVENT']\n",
    "s = []\n",
    "for i in range(1000):\n",
    "    X_train, X_test, Y_train, Y_test = train_test_split(X, Y, test_size=0.1)\n",
    "    model = KNeighborsClassifier()\n",
    "    model.fit(X_train, Y_train)\n",
    "    predictions = model.predict(X_test)\n",
    "    score = accuracy_score(Y_test, predictions)\n",
    "    s.append(score)\n",
    "mean = sum(s)/len(s)\n",
    "mean                                              "
   ]
  },
  {
   "cell_type": "code",
   "execution_count": 3,
   "id": "f666f55c",
   "metadata": {},
   "outputs": [
    {
     "data": {
      "text/plain": [
       "0.8666666666666667"
      ]
     },
     "execution_count": 3,
     "metadata": {},
     "output_type": "execute_result"
    }
   ],
   "source": [
    "max = max(s)\n",
    "max"
   ]
  },
  {
   "cell_type": "code",
   "execution_count": 4,
   "id": "dd1716d7",
   "metadata": {},
   "outputs": [
    {
     "data": {
      "text/plain": [
       "0.36666666666666664"
      ]
     },
     "execution_count": 4,
     "metadata": {},
     "output_type": "execute_result"
    }
   ],
   "source": [
    "min = min(s)\n",
    "min"
   ]
  },
  {
   "cell_type": "code",
   "execution_count": 5,
   "id": "9e8d0138",
   "metadata": {},
   "outputs": [
    {
     "data": {
      "text/plain": [
       "0.08313627685564412"
      ]
     },
     "execution_count": 5,
     "metadata": {},
     "output_type": "execute_result"
    }
   ],
   "source": [
    "deviation = stdev(s)\n",
    "deviation"
   ]
  },
  {
   "cell_type": "code",
   "execution_count": null,
   "id": "70c7f054",
   "metadata": {},
   "outputs": [],
   "source": []
  }
 ],
 "metadata": {
  "kernelspec": {
   "display_name": "Python 3",
   "language": "python",
   "name": "python3"
  },
  "language_info": {
   "codemirror_mode": {
    "name": "ipython",
    "version": 3
   },
   "file_extension": ".py",
   "mimetype": "text/x-python",
   "name": "python",
   "nbconvert_exporter": "python",
   "pygments_lexer": "ipython3",
   "version": "3.8.5"
  }
 },
 "nbformat": 4,
 "nbformat_minor": 5
}
